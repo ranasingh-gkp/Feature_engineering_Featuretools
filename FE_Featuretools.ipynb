{
  "nbformat": 4,
  "nbformat_minor": 0,
  "metadata": {
    "colab": {
      "name": "FE_Featuretools.ipynb",
      "provenance": [],
      "collapsed_sections": []
    },
    "kernelspec": {
      "name": "python3",
      "display_name": "Python 3"
    }
  },
  "cells": [
    {
      "cell_type": "code",
      "metadata": {
        "id": "Or49zFpUG_ie"
      },
      "source": [
        "# !pip install featuretools\r\n",
        "import featuretools as ft\r\n",
        "import numpy as np\r\n",
        "import pandas as pd\r\n",
        "\r\n",
        "train = pd.read_csv(\"train_v9rqX0R.csv\")\r\n",
        "test = pd.read_csv(\"test_AbJTz2l.csv\")"
      ],
      "execution_count": 5,
      "outputs": []
    },
    {
      "cell_type": "code",
      "metadata": {
        "colab": {
          "base_uri": "https://localhost:8080/"
        },
        "id": "vMJpb3X0Rq6n",
        "outputId": "05f3813a-d200-46c0-d103-f4b2d837e9af"
      },
      "source": [
        "print('train size', train.shape)\r\n",
        "print('test size', test.shape)"
      ],
      "execution_count": 20,
      "outputs": [
        {
          "output_type": "stream",
          "text": [
            "train size (8523, 11)\n",
            "test size (5681, 11)\n"
          ],
          "name": "stdout"
        }
      ]
    },
    {
      "cell_type": "code",
      "metadata": {
        "id": "GT015OWqH6IY"
      },
      "source": [
        "# saving identifiers\r\n",
        "test_Item_Identifier = test['Item_Identifier']\r\n",
        "test_Outlet_Identifier = test['Outlet_Identifier']\r\n",
        "sales = train['Item_Outlet_Sales']\r\n",
        "train.drop(['Item_Outlet_Sales'], axis=1, inplace=True)"
      ],
      "execution_count": 6,
      "outputs": []
    },
    {
      "cell_type": "code",
      "metadata": {
        "id": "67m8TZ8aISqN"
      },
      "source": [
        "combi = train.append(test, ignore_index=True)"
      ],
      "execution_count": 7,
      "outputs": []
    },
    {
      "cell_type": "code",
      "metadata": {
        "colab": {
          "base_uri": "https://localhost:8080/"
        },
        "id": "cU9QowB1IUZu",
        "outputId": "f04492a1-0ff5-4838-9504-de3bd264b93f"
      },
      "source": [
        "combi.isnull().sum()"
      ],
      "execution_count": 14,
      "outputs": [
        {
          "output_type": "execute_result",
          "data": {
            "text/plain": [
              "Item_Weight                  0\n",
              "Item_Fat_Content             0\n",
              "Item_Visibility              0\n",
              "Item_Type                    0\n",
              "Item_MRP                     0\n",
              "Outlet_Identifier            0\n",
              "Outlet_Establishment_Year    0\n",
              "Outlet_Size                  0\n",
              "Outlet_Location_Type         0\n",
              "Outlet_Type                  0\n",
              "id                           0\n",
              "dtype: int64"
            ]
          },
          "metadata": {
            "tags": []
          },
          "execution_count": 14
        }
      ]
    },
    {
      "cell_type": "code",
      "metadata": {
        "id": "MIRIQj8eIW2m"
      },
      "source": [
        "# imputing missing data\r\n",
        "combi['Item_Weight'].fillna(combi['Item_Weight'].mean(), inplace = True)\r\n",
        "combi['Outlet_Size'].fillna(\"missing\", inplace = True)"
      ],
      "execution_count": 9,
      "outputs": []
    },
    {
      "cell_type": "code",
      "metadata": {
        "colab": {
          "base_uri": "https://localhost:8080/"
        },
        "id": "BzrpEx3NJjLE",
        "outputId": "4d524f50-e18c-463e-93af-5369de9c66f8"
      },
      "source": [
        "combi['Item_Fat_Content'].value_counts()"
      ],
      "execution_count": 13,
      "outputs": [
        {
          "output_type": "execute_result",
          "data": {
            "text/plain": [
              "0    9185\n",
              "1    5019\n",
              "Name: Item_Fat_Content, dtype: int64"
            ]
          },
          "metadata": {
            "tags": []
          },
          "execution_count": 13
        }
      ]
    },
    {
      "cell_type": "code",
      "metadata": {
        "id": "DgXkVWDvJvCj"
      },
      "source": [
        "# dictionary to replace the categories\r\n",
        "fat_content_dict = {'Low Fat':0, 'Regular':1, 'LF':0, 'reg':1, 'low fat':0}\r\n",
        "\r\n",
        "combi['Item_Fat_Content'] = combi['Item_Fat_Content'].replace(fat_content_dict, regex=True)"
      ],
      "execution_count": 11,
      "outputs": []
    },
    {
      "cell_type": "code",
      "metadata": {
        "id": "HXRBjdQnJyIY"
      },
      "source": [
        "combi['id'] = combi['Item_Identifier'] + combi['Outlet_Identifier']\r\n",
        "combi.drop(['Item_Identifier'], axis=1, inplace=True)"
      ],
      "execution_count": 12,
      "outputs": []
    },
    {
      "cell_type": "code",
      "metadata": {
        "colab": {
          "base_uri": "https://localhost:8080/"
        },
        "id": "keuZhAgzQ0Xo",
        "outputId": "35a0e244-d55e-49bf-a8d3-bb2ad3d33567"
      },
      "source": [
        "# creating and entity set 'es'\r\n",
        "es = ft.EntitySet(id = 'sales')\r\n",
        "\r\n",
        "# adding a dataframe \r\n",
        "es.entity_from_dataframe(entity_id = 'bigmart', dataframe = combi, index = 'id')"
      ],
      "execution_count": 26,
      "outputs": [
        {
          "output_type": "execute_result",
          "data": {
            "text/plain": [
              "Entityset: sales\n",
              "  Entities:\n",
              "    bigmart [Rows: 14204, Columns: 11]\n",
              "  Relationships:\n",
              "    No relationships"
            ]
          },
          "metadata": {
            "tags": []
          },
          "execution_count": 26
        }
      ]
    },
    {
      "cell_type": "code",
      "metadata": {
        "colab": {
          "base_uri": "https://localhost:8080/"
        },
        "id": "WF5vgKqyQ09K",
        "outputId": "284756b4-d81b-4320-e51c-71fd967c5f41"
      },
      "source": [
        "print(es)"
      ],
      "execution_count": 27,
      "outputs": [
        {
          "output_type": "stream",
          "text": [
            "Entityset: sales\n",
            "  Entities:\n",
            "    bigmart [Rows: 14204, Columns: 11]\n",
            "  Relationships:\n",
            "    No relationships\n"
          ],
          "name": "stdout"
        }
      ]
    },
    {
      "cell_type": "code",
      "metadata": {
        "id": "6pIo96H0Q1CD"
      },
      "source": [
        ""
      ],
      "execution_count": 15,
      "outputs": []
    },
    {
      "cell_type": "code",
      "metadata": {
        "id": "5TZHiCOeQ1Fk"
      },
      "source": [
        ""
      ],
      "execution_count": null,
      "outputs": []
    },
    {
      "cell_type": "code",
      "metadata": {
        "colab": {
          "base_uri": "https://localhost:8080/"
        },
        "id": "NZlmxEF1PeA4",
        "outputId": "360cc08d-8e8f-4317-9d34-6b51d2c9a7b3"
      },
      "source": [
        "es.normalize_entity(base_entity_id='bigmart', new_entity_id='outlet', index = 'Outlet_Identifier', \r\n",
        "additional_variables = ['Outlet_Establishment_Year', 'Outlet_Size', 'Outlet_Location_Type', 'Outlet_Type'])"
      ],
      "execution_count": 28,
      "outputs": [
        {
          "output_type": "execute_result",
          "data": {
            "text/plain": [
              "Entityset: sales\n",
              "  Entities:\n",
              "    bigmart [Rows: 14204, Columns: 7]\n",
              "    outlet [Rows: 10, Columns: 5]\n",
              "  Relationships:\n",
              "    bigmart.Outlet_Identifier -> outlet.Outlet_Identifier"
            ]
          },
          "metadata": {
            "tags": []
          },
          "execution_count": 28
        }
      ]
    },
    {
      "cell_type": "code",
      "metadata": {
        "colab": {
          "base_uri": "https://localhost:8080/"
        },
        "id": "Lp7pkCSoQ9S2",
        "outputId": "6981bd93-ea17-4998-e64d-8aa545d672e1"
      },
      "source": [
        "print(es)"
      ],
      "execution_count": 29,
      "outputs": [
        {
          "output_type": "stream",
          "text": [
            "Entityset: sales\n",
            "  Entities:\n",
            "    bigmart [Rows: 14204, Columns: 7]\n",
            "    outlet [Rows: 10, Columns: 5]\n",
            "  Relationships:\n",
            "    bigmart.Outlet_Identifier -> outlet.Outlet_Identifier\n"
          ],
          "name": "stdout"
        }
      ]
    },
    {
      "cell_type": "code",
      "metadata": {
        "colab": {
          "base_uri": "https://localhost:8080/"
        },
        "id": "19iq5gMaQ_HE",
        "outputId": "64698562-40ae-416c-bb78-06215ab7888b"
      },
      "source": [
        "feature_matrix, feature_names = ft.dfs(entityset=es, \r\n",
        "target_entity = 'bigmart', \r\n",
        "max_depth = 2, \r\n",
        "verbose = 1, \r\n",
        "n_jobs = 1)"
      ],
      "execution_count": 32,
      "outputs": [
        {
          "output_type": "stream",
          "text": [
            "Built 37 features\n",
            "Elapsed: 00:00 | Progress: 100%|██████████\n"
          ],
          "name": "stdout"
        }
      ]
    },
    {
      "cell_type": "code",
      "metadata": {
        "colab": {
          "base_uri": "https://localhost:8080/"
        },
        "id": "JIJe7aUCScQC",
        "outputId": "ab259cf6-7ee8-4f5b-b64c-f6c93e2ce911"
      },
      "source": [
        "feature_matrix.columns"
      ],
      "execution_count": 33,
      "outputs": [
        {
          "output_type": "execute_result",
          "data": {
            "text/plain": [
              "Index(['Item_Weight', 'Item_Fat_Content', 'Item_Visibility', 'Item_Type',\n",
              "       'Item_MRP', 'Outlet_Identifier', 'outlet.Outlet_Establishment_Year',\n",
              "       'outlet.Outlet_Size', 'outlet.Outlet_Location_Type',\n",
              "       'outlet.Outlet_Type', 'outlet.COUNT(bigmart)',\n",
              "       'outlet.MAX(bigmart.Item_Fat_Content)', 'outlet.MAX(bigmart.Item_MRP)',\n",
              "       'outlet.MAX(bigmart.Item_Visibility)',\n",
              "       'outlet.MAX(bigmart.Item_Weight)',\n",
              "       'outlet.MEAN(bigmart.Item_Fat_Content)',\n",
              "       'outlet.MEAN(bigmart.Item_MRP)', 'outlet.MEAN(bigmart.Item_Visibility)',\n",
              "       'outlet.MEAN(bigmart.Item_Weight)',\n",
              "       'outlet.MIN(bigmart.Item_Fat_Content)', 'outlet.MIN(bigmart.Item_MRP)',\n",
              "       'outlet.MIN(bigmart.Item_Visibility)',\n",
              "       'outlet.MIN(bigmart.Item_Weight)', 'outlet.MODE(bigmart.Item_Type)',\n",
              "       'outlet.NUM_UNIQUE(bigmart.Item_Type)',\n",
              "       'outlet.SKEW(bigmart.Item_Fat_Content)',\n",
              "       'outlet.SKEW(bigmart.Item_MRP)', 'outlet.SKEW(bigmart.Item_Visibility)',\n",
              "       'outlet.SKEW(bigmart.Item_Weight)',\n",
              "       'outlet.STD(bigmart.Item_Fat_Content)', 'outlet.STD(bigmart.Item_MRP)',\n",
              "       'outlet.STD(bigmart.Item_Visibility)',\n",
              "       'outlet.STD(bigmart.Item_Weight)',\n",
              "       'outlet.SUM(bigmart.Item_Fat_Content)', 'outlet.SUM(bigmart.Item_MRP)',\n",
              "       'outlet.SUM(bigmart.Item_Visibility)',\n",
              "       'outlet.SUM(bigmart.Item_Weight)'],\n",
              "      dtype='object')"
            ]
          },
          "metadata": {
            "tags": []
          },
          "execution_count": 33
        }
      ]
    },
    {
      "cell_type": "code",
      "metadata": {
        "colab": {
          "base_uri": "https://localhost:8080/",
          "height": 272
        },
        "id": "xm4moUpEVVST",
        "outputId": "0bc678a8-c608-483e-8296-e1bfff68f0b1"
      },
      "source": [
        "feature_matrix.head()"
      ],
      "execution_count": 34,
      "outputs": [
        {
          "output_type": "execute_result",
          "data": {
            "text/html": [
              "<div>\n",
              "<style scoped>\n",
              "    .dataframe tbody tr th:only-of-type {\n",
              "        vertical-align: middle;\n",
              "    }\n",
              "\n",
              "    .dataframe tbody tr th {\n",
              "        vertical-align: top;\n",
              "    }\n",
              "\n",
              "    .dataframe thead th {\n",
              "        text-align: right;\n",
              "    }\n",
              "</style>\n",
              "<table border=\"1\" class=\"dataframe\">\n",
              "  <thead>\n",
              "    <tr style=\"text-align: right;\">\n",
              "      <th></th>\n",
              "      <th>Item_Weight</th>\n",
              "      <th>Item_Fat_Content</th>\n",
              "      <th>Item_Visibility</th>\n",
              "      <th>Item_Type</th>\n",
              "      <th>Item_MRP</th>\n",
              "      <th>Outlet_Identifier</th>\n",
              "      <th>outlet.Outlet_Establishment_Year</th>\n",
              "      <th>outlet.Outlet_Size</th>\n",
              "      <th>outlet.Outlet_Location_Type</th>\n",
              "      <th>outlet.Outlet_Type</th>\n",
              "      <th>outlet.COUNT(bigmart)</th>\n",
              "      <th>outlet.MAX(bigmart.Item_Fat_Content)</th>\n",
              "      <th>outlet.MAX(bigmart.Item_MRP)</th>\n",
              "      <th>outlet.MAX(bigmart.Item_Visibility)</th>\n",
              "      <th>outlet.MAX(bigmart.Item_Weight)</th>\n",
              "      <th>outlet.MEAN(bigmart.Item_Fat_Content)</th>\n",
              "      <th>outlet.MEAN(bigmart.Item_MRP)</th>\n",
              "      <th>outlet.MEAN(bigmart.Item_Visibility)</th>\n",
              "      <th>outlet.MEAN(bigmart.Item_Weight)</th>\n",
              "      <th>outlet.MIN(bigmart.Item_Fat_Content)</th>\n",
              "      <th>outlet.MIN(bigmart.Item_MRP)</th>\n",
              "      <th>outlet.MIN(bigmart.Item_Visibility)</th>\n",
              "      <th>outlet.MIN(bigmart.Item_Weight)</th>\n",
              "      <th>outlet.MODE(bigmart.Item_Type)</th>\n",
              "      <th>outlet.NUM_UNIQUE(bigmart.Item_Type)</th>\n",
              "      <th>outlet.SKEW(bigmart.Item_Fat_Content)</th>\n",
              "      <th>outlet.SKEW(bigmart.Item_MRP)</th>\n",
              "      <th>outlet.SKEW(bigmart.Item_Visibility)</th>\n",
              "      <th>outlet.SKEW(bigmart.Item_Weight)</th>\n",
              "      <th>outlet.STD(bigmart.Item_Fat_Content)</th>\n",
              "      <th>outlet.STD(bigmart.Item_MRP)</th>\n",
              "      <th>outlet.STD(bigmart.Item_Visibility)</th>\n",
              "      <th>outlet.STD(bigmart.Item_Weight)</th>\n",
              "      <th>outlet.SUM(bigmart.Item_Fat_Content)</th>\n",
              "      <th>outlet.SUM(bigmart.Item_MRP)</th>\n",
              "      <th>outlet.SUM(bigmart.Item_Visibility)</th>\n",
              "      <th>outlet.SUM(bigmart.Item_Weight)</th>\n",
              "    </tr>\n",
              "    <tr>\n",
              "      <th>id</th>\n",
              "      <th></th>\n",
              "      <th></th>\n",
              "      <th></th>\n",
              "      <th></th>\n",
              "      <th></th>\n",
              "      <th></th>\n",
              "      <th></th>\n",
              "      <th></th>\n",
              "      <th></th>\n",
              "      <th></th>\n",
              "      <th></th>\n",
              "      <th></th>\n",
              "      <th></th>\n",
              "      <th></th>\n",
              "      <th></th>\n",
              "      <th></th>\n",
              "      <th></th>\n",
              "      <th></th>\n",
              "      <th></th>\n",
              "      <th></th>\n",
              "      <th></th>\n",
              "      <th></th>\n",
              "      <th></th>\n",
              "      <th></th>\n",
              "      <th></th>\n",
              "      <th></th>\n",
              "      <th></th>\n",
              "      <th></th>\n",
              "      <th></th>\n",
              "      <th></th>\n",
              "      <th></th>\n",
              "      <th></th>\n",
              "      <th></th>\n",
              "      <th></th>\n",
              "      <th></th>\n",
              "      <th></th>\n",
              "      <th></th>\n",
              "    </tr>\n",
              "  </thead>\n",
              "  <tbody>\n",
              "    <tr>\n",
              "      <th>FDA15OUT049</th>\n",
              "      <td>9.30</td>\n",
              "      <td>0</td>\n",
              "      <td>0.016047</td>\n",
              "      <td>Dairy</td>\n",
              "      <td>249.8092</td>\n",
              "      <td>OUT049</td>\n",
              "      <td>1999</td>\n",
              "      <td>Medium</td>\n",
              "      <td>Tier 1</td>\n",
              "      <td>Supermarket Type1</td>\n",
              "      <td>1550</td>\n",
              "      <td>1</td>\n",
              "      <td>266.4884</td>\n",
              "      <td>0.187850</td>\n",
              "      <td>21.35</td>\n",
              "      <td>0.352903</td>\n",
              "      <td>141.163199</td>\n",
              "      <td>0.059000</td>\n",
              "      <td>12.803003</td>\n",
              "      <td>0</td>\n",
              "      <td>32.4558</td>\n",
              "      <td>0.0</td>\n",
              "      <td>4.555</td>\n",
              "      <td>Fruits and Vegetables</td>\n",
              "      <td>16</td>\n",
              "      <td>0.616228</td>\n",
              "      <td>0.126294</td>\n",
              "      <td>0.790782</td>\n",
              "      <td>0.099024</td>\n",
              "      <td>0.478027</td>\n",
              "      <td>62.144594</td>\n",
              "      <td>0.043924</td>\n",
              "      <td>4.650796</td>\n",
              "      <td>547</td>\n",
              "      <td>218802.9588</td>\n",
              "      <td>91.450099</td>\n",
              "      <td>19844.655</td>\n",
              "    </tr>\n",
              "    <tr>\n",
              "      <th>DRC01OUT018</th>\n",
              "      <td>5.92</td>\n",
              "      <td>1</td>\n",
              "      <td>0.019278</td>\n",
              "      <td>Soft Drinks</td>\n",
              "      <td>48.2692</td>\n",
              "      <td>OUT018</td>\n",
              "      <td>2009</td>\n",
              "      <td>Medium</td>\n",
              "      <td>Tier 3</td>\n",
              "      <td>Supermarket Type2</td>\n",
              "      <td>1546</td>\n",
              "      <td>1</td>\n",
              "      <td>266.3226</td>\n",
              "      <td>0.188323</td>\n",
              "      <td>21.35</td>\n",
              "      <td>0.353816</td>\n",
              "      <td>141.000899</td>\n",
              "      <td>0.059976</td>\n",
              "      <td>12.803638</td>\n",
              "      <td>0</td>\n",
              "      <td>31.8900</td>\n",
              "      <td>0.0</td>\n",
              "      <td>4.555</td>\n",
              "      <td>Fruits and Vegetables</td>\n",
              "      <td>16</td>\n",
              "      <td>0.612046</td>\n",
              "      <td>0.133528</td>\n",
              "      <td>0.783017</td>\n",
              "      <td>0.102602</td>\n",
              "      <td>0.478308</td>\n",
              "      <td>62.022851</td>\n",
              "      <td>0.044489</td>\n",
              "      <td>4.650874</td>\n",
              "      <td>547</td>\n",
              "      <td>217987.3906</td>\n",
              "      <td>92.723425</td>\n",
              "      <td>19794.425</td>\n",
              "    </tr>\n",
              "    <tr>\n",
              "      <th>FDN15OUT049</th>\n",
              "      <td>17.50</td>\n",
              "      <td>0</td>\n",
              "      <td>0.016760</td>\n",
              "      <td>Meat</td>\n",
              "      <td>141.6180</td>\n",
              "      <td>OUT049</td>\n",
              "      <td>1999</td>\n",
              "      <td>Medium</td>\n",
              "      <td>Tier 1</td>\n",
              "      <td>Supermarket Type1</td>\n",
              "      <td>1550</td>\n",
              "      <td>1</td>\n",
              "      <td>266.4884</td>\n",
              "      <td>0.187850</td>\n",
              "      <td>21.35</td>\n",
              "      <td>0.352903</td>\n",
              "      <td>141.163199</td>\n",
              "      <td>0.059000</td>\n",
              "      <td>12.803003</td>\n",
              "      <td>0</td>\n",
              "      <td>32.4558</td>\n",
              "      <td>0.0</td>\n",
              "      <td>4.555</td>\n",
              "      <td>Fruits and Vegetables</td>\n",
              "      <td>16</td>\n",
              "      <td>0.616228</td>\n",
              "      <td>0.126294</td>\n",
              "      <td>0.790782</td>\n",
              "      <td>0.099024</td>\n",
              "      <td>0.478027</td>\n",
              "      <td>62.144594</td>\n",
              "      <td>0.043924</td>\n",
              "      <td>4.650796</td>\n",
              "      <td>547</td>\n",
              "      <td>218802.9588</td>\n",
              "      <td>91.450099</td>\n",
              "      <td>19844.655</td>\n",
              "    </tr>\n",
              "    <tr>\n",
              "      <th>FDX07OUT010</th>\n",
              "      <td>19.20</td>\n",
              "      <td>1</td>\n",
              "      <td>0.000000</td>\n",
              "      <td>Fruits and Vegetables</td>\n",
              "      <td>182.0950</td>\n",
              "      <td>OUT010</td>\n",
              "      <td>1998</td>\n",
              "      <td>missing</td>\n",
              "      <td>Tier 3</td>\n",
              "      <td>Grocery Store</td>\n",
              "      <td>925</td>\n",
              "      <td>1</td>\n",
              "      <td>266.6884</td>\n",
              "      <td>0.313935</td>\n",
              "      <td>21.35</td>\n",
              "      <td>0.356757</td>\n",
              "      <td>141.159742</td>\n",
              "      <td>0.101939</td>\n",
              "      <td>12.722870</td>\n",
              "      <td>0</td>\n",
              "      <td>32.6558</td>\n",
              "      <td>0.0</td>\n",
              "      <td>4.610</td>\n",
              "      <td>Fruits and Vegetables</td>\n",
              "      <td>16</td>\n",
              "      <td>0.599012</td>\n",
              "      <td>0.104693</td>\n",
              "      <td>0.776902</td>\n",
              "      <td>0.112759</td>\n",
              "      <td>0.479301</td>\n",
              "      <td>62.010835</td>\n",
              "      <td>0.073604</td>\n",
              "      <td>4.675070</td>\n",
              "      <td>330</td>\n",
              "      <td>130572.7618</td>\n",
              "      <td>94.293418</td>\n",
              "      <td>11768.655</td>\n",
              "    </tr>\n",
              "    <tr>\n",
              "      <th>NCD19OUT013</th>\n",
              "      <td>8.93</td>\n",
              "      <td>0</td>\n",
              "      <td>0.000000</td>\n",
              "      <td>Household</td>\n",
              "      <td>53.8614</td>\n",
              "      <td>OUT013</td>\n",
              "      <td>1987</td>\n",
              "      <td>High</td>\n",
              "      <td>Tier 3</td>\n",
              "      <td>Supermarket Type1</td>\n",
              "      <td>1553</td>\n",
              "      <td>1</td>\n",
              "      <td>266.6884</td>\n",
              "      <td>0.185913</td>\n",
              "      <td>21.35</td>\n",
              "      <td>0.353509</td>\n",
              "      <td>141.128428</td>\n",
              "      <td>0.060242</td>\n",
              "      <td>12.788139</td>\n",
              "      <td>0</td>\n",
              "      <td>31.4900</td>\n",
              "      <td>0.0</td>\n",
              "      <td>4.555</td>\n",
              "      <td>Fruits and Vegetables</td>\n",
              "      <td>16</td>\n",
              "      <td>0.613449</td>\n",
              "      <td>0.130888</td>\n",
              "      <td>0.759033</td>\n",
              "      <td>0.104392</td>\n",
              "      <td>0.478213</td>\n",
              "      <td>62.140848</td>\n",
              "      <td>0.044005</td>\n",
              "      <td>4.650214</td>\n",
              "      <td>549</td>\n",
              "      <td>219172.4492</td>\n",
              "      <td>93.555174</td>\n",
              "      <td>19859.980</td>\n",
              "    </tr>\n",
              "  </tbody>\n",
              "</table>\n",
              "</div>"
            ],
            "text/plain": [
              "             Item_Weight  ...  outlet.SUM(bigmart.Item_Weight)\n",
              "id                        ...                                 \n",
              "FDA15OUT049         9.30  ...                        19844.655\n",
              "DRC01OUT018         5.92  ...                        19794.425\n",
              "FDN15OUT049        17.50  ...                        19844.655\n",
              "FDX07OUT010        19.20  ...                        11768.655\n",
              "NCD19OUT013         8.93  ...                        19859.980\n",
              "\n",
              "[5 rows x 37 columns]"
            ]
          },
          "metadata": {
            "tags": []
          },
          "execution_count": 34
        }
      ]
    },
    {
      "cell_type": "code",
      "metadata": {
        "colab": {
          "base_uri": "https://localhost:8080/"
        },
        "id": "uNelYY5WV1xc",
        "outputId": "9a4f85b3-a9a0-4da8-8311-1de6905a1293"
      },
      "source": [
        "combi.info()"
      ],
      "execution_count": 36,
      "outputs": [
        {
          "output_type": "stream",
          "text": [
            "<class 'pandas.core.frame.DataFrame'>\n",
            "RangeIndex: 14204 entries, 0 to 14203\n",
            "Data columns (total 11 columns):\n",
            " #   Column                     Non-Null Count  Dtype  \n",
            "---  ------                     --------------  -----  \n",
            " 0   Item_Weight                14204 non-null  float64\n",
            " 1   Item_Fat_Content           14204 non-null  int64  \n",
            " 2   Item_Visibility            14204 non-null  float64\n",
            " 3   Item_Type                  14204 non-null  object \n",
            " 4   Item_MRP                   14204 non-null  float64\n",
            " 5   Outlet_Identifier          14204 non-null  object \n",
            " 6   Outlet_Establishment_Year  14204 non-null  int64  \n",
            " 7   Outlet_Size                14204 non-null  object \n",
            " 8   Outlet_Location_Type       14204 non-null  object \n",
            " 9   Outlet_Type                14204 non-null  object \n",
            " 10  id                         14204 non-null  object \n",
            "dtypes: float64(3), int64(2), object(6)\n",
            "memory usage: 1.2+ MB\n"
          ],
          "name": "stdout"
        }
      ]
    },
    {
      "cell_type": "code",
      "metadata": {
        "colab": {
          "base_uri": "https://localhost:8080/"
        },
        "id": "IwC5tyCSZlx1",
        "outputId": "0b933477-791b-459b-a06f-7a1c0a1ee24e"
      },
      "source": [
        "!pip install catboost"
      ],
      "execution_count": 38,
      "outputs": [
        {
          "output_type": "stream",
          "text": [
            "Collecting catboost\n",
            "\u001b[?25l  Downloading https://files.pythonhosted.org/packages/20/37/bc4e0ddc30c07a96482abf1de7ed1ca54e59bba2026a33bca6d2ef286e5b/catboost-0.24.4-cp36-none-manylinux1_x86_64.whl (65.7MB)\n",
            "\u001b[K     |████████████████████████████████| 65.8MB 56kB/s \n",
            "\u001b[?25hRequirement already satisfied: graphviz in /usr/local/lib/python3.6/dist-packages (from catboost) (0.10.1)\n",
            "Requirement already satisfied: scipy in /usr/local/lib/python3.6/dist-packages (from catboost) (1.4.1)\n",
            "Requirement already satisfied: pandas>=0.24.0 in /usr/local/lib/python3.6/dist-packages (from catboost) (1.1.5)\n",
            "Requirement already satisfied: plotly in /usr/local/lib/python3.6/dist-packages (from catboost) (4.4.1)\n",
            "Requirement already satisfied: numpy>=1.16.0 in /usr/local/lib/python3.6/dist-packages (from catboost) (1.19.5)\n",
            "Requirement already satisfied: matplotlib in /usr/local/lib/python3.6/dist-packages (from catboost) (3.2.2)\n",
            "Requirement already satisfied: six in /usr/local/lib/python3.6/dist-packages (from catboost) (1.15.0)\n",
            "Requirement already satisfied: python-dateutil>=2.7.3 in /usr/local/lib/python3.6/dist-packages (from pandas>=0.24.0->catboost) (2.8.1)\n",
            "Requirement already satisfied: pytz>=2017.2 in /usr/local/lib/python3.6/dist-packages (from pandas>=0.24.0->catboost) (2018.9)\n",
            "Requirement already satisfied: retrying>=1.3.3 in /usr/local/lib/python3.6/dist-packages (from plotly->catboost) (1.3.3)\n",
            "Requirement already satisfied: pyparsing!=2.0.4,!=2.1.2,!=2.1.6,>=2.0.1 in /usr/local/lib/python3.6/dist-packages (from matplotlib->catboost) (2.4.7)\n",
            "Requirement already satisfied: cycler>=0.10 in /usr/local/lib/python3.6/dist-packages (from matplotlib->catboost) (0.10.0)\n",
            "Requirement already satisfied: kiwisolver>=1.0.1 in /usr/local/lib/python3.6/dist-packages (from matplotlib->catboost) (1.3.1)\n",
            "Installing collected packages: catboost\n",
            "Successfully installed catboost-0.24.4\n"
          ],
          "name": "stdout"
        }
      ]
    },
    {
      "cell_type": "code",
      "metadata": {
        "colab": {
          "base_uri": "https://localhost:8080/"
        },
        "id": "JTFkXm48V58E",
        "outputId": "c9c1dca3-1679-431b-e99b-8eaa726c1d87"
      },
      "source": [
        "from catboost import CatBoostRegressor\r\n",
        "\r\n",
        "categorical_features = np.where(feature_matrix.dtypes == 'object')[0]\r\n",
        "for i in categorical_features:\r\n",
        "    feature_matrix.iloc[:,i] = feature_matrix.iloc[:,i].astype('str')\r\n",
        "\r\n",
        "#Let’s split feature_matrix back into train and test sets.\r\n",
        "# feature_matrix.drop(['id'], axis=1, inplace=True)\r\n",
        "train = feature_matrix[:8523]\r\n",
        "test = feature_matrix[8523:]\r\n",
        "\r\n",
        "# removing uneccesary variables\r\n",
        "train.drop(['Outlet_Identifier'], axis=1, inplace=True)\r\n",
        "test.drop(['Outlet_Identifier'], axis=1, inplace=True)\r\n",
        "\r\n",
        "# identifying categorical features\r\n",
        "categorical_features = np.where(train.dtypes == 'object')[0]\r\n",
        "\r\n",
        "#Split the train data into training and validation set to check the model’s performance locally.\r\n",
        "from sklearn.model_selection import train_test_split\r\n",
        "\r\n",
        "# splitting train data into training and validation set\r\n",
        "xtrain, xvalid, ytrain, yvalid = train_test_split(train, sales, test_size=0.25, random_state=11)\r\n",
        "\r\n",
        "#Finally, we can now train our model. The evaluation metric we will use is RMSE (Root Mean Squared Error).\r\n",
        "model_cat = CatBoostRegressor(iterations=100, learning_rate=0.3, depth=6, eval_metric='RMSE', random_seed=7)\r\n",
        "\r\n",
        "# training model\r\n",
        "model_cat.fit(xtrain, ytrain, cat_features=categorical_features, use_best_model=True)\r\n",
        "\r\n",
        "# validation score\r\n",
        "model_cat.score(xvalid, yvalid)"
      ],
      "execution_count": 40,
      "outputs": [
        {
          "output_type": "stream",
          "text": [
            "You should provide test set for use best model. use_best_model parameter has been switched to false value.\n"
          ],
          "name": "stderr"
        },
        {
          "output_type": "stream",
          "text": [
            "0:\tlearn: 1440.1669686\ttotal: 52.8ms\tremaining: 5.22s\n",
            "1:\tlearn: 1291.2555633\ttotal: 58ms\tremaining: 2.84s\n",
            "2:\tlearn: 1198.9242824\ttotal: 63.7ms\tremaining: 2.06s\n",
            "3:\tlearn: 1144.4826511\ttotal: 67.6ms\tremaining: 1.62s\n",
            "4:\tlearn: 1110.1295069\ttotal: 72.8ms\tremaining: 1.38s\n",
            "5:\tlearn: 1089.8059753\ttotal: 78.3ms\tremaining: 1.23s\n",
            "6:\tlearn: 1081.0870251\ttotal: 83.2ms\tremaining: 1.1s\n",
            "7:\tlearn: 1073.8363039\ttotal: 88.1ms\tremaining: 1.01s\n",
            "8:\tlearn: 1068.1980841\ttotal: 93.3ms\tremaining: 944ms\n",
            "9:\tlearn: 1065.3736138\ttotal: 98.5ms\tremaining: 886ms\n",
            "10:\tlearn: 1062.6591514\ttotal: 103ms\tremaining: 835ms\n",
            "11:\tlearn: 1058.9950763\ttotal: 108ms\tremaining: 794ms\n",
            "12:\tlearn: 1058.2651366\ttotal: 113ms\tremaining: 758ms\n",
            "13:\tlearn: 1057.5983637\ttotal: 117ms\tremaining: 719ms\n",
            "14:\tlearn: 1056.4337486\ttotal: 122ms\tremaining: 691ms\n",
            "15:\tlearn: 1055.8339476\ttotal: 127ms\tremaining: 666ms\n",
            "16:\tlearn: 1053.4063958\ttotal: 133ms\tremaining: 647ms\n",
            "17:\tlearn: 1053.3144343\ttotal: 138ms\tremaining: 626ms\n",
            "18:\tlearn: 1052.0205175\ttotal: 143ms\tremaining: 608ms\n",
            "19:\tlearn: 1050.0396473\ttotal: 148ms\tremaining: 591ms\n",
            "20:\tlearn: 1049.2306183\ttotal: 153ms\tremaining: 575ms\n",
            "21:\tlearn: 1048.6602947\ttotal: 158ms\tremaining: 560ms\n",
            "22:\tlearn: 1046.2425778\ttotal: 163ms\tremaining: 546ms\n",
            "23:\tlearn: 1045.6929110\ttotal: 168ms\tremaining: 532ms\n",
            "24:\tlearn: 1045.1080311\ttotal: 173ms\tremaining: 518ms\n",
            "25:\tlearn: 1044.8780129\ttotal: 178ms\tremaining: 505ms\n",
            "26:\tlearn: 1044.3452571\ttotal: 182ms\tremaining: 493ms\n",
            "27:\tlearn: 1043.7885585\ttotal: 187ms\tremaining: 482ms\n",
            "28:\tlearn: 1043.6152617\ttotal: 195ms\tremaining: 478ms\n",
            "29:\tlearn: 1043.5265602\ttotal: 200ms\tremaining: 467ms\n",
            "30:\tlearn: 1042.9935886\ttotal: 205ms\tremaining: 456ms\n",
            "31:\tlearn: 1041.5475597\ttotal: 210ms\tremaining: 447ms\n",
            "32:\tlearn: 1040.2697734\ttotal: 215ms\tremaining: 437ms\n",
            "33:\tlearn: 1039.4574156\ttotal: 220ms\tremaining: 427ms\n",
            "34:\tlearn: 1038.5793357\ttotal: 231ms\tremaining: 428ms\n",
            "35:\tlearn: 1035.6428378\ttotal: 235ms\tremaining: 418ms\n",
            "36:\tlearn: 1033.2815391\ttotal: 240ms\tremaining: 409ms\n",
            "37:\tlearn: 1031.9718879\ttotal: 247ms\tremaining: 403ms\n",
            "38:\tlearn: 1030.5659372\ttotal: 252ms\tremaining: 394ms\n",
            "39:\tlearn: 1029.9890025\ttotal: 257ms\tremaining: 385ms\n",
            "40:\tlearn: 1029.9587807\ttotal: 261ms\tremaining: 376ms\n",
            "41:\tlearn: 1027.4757312\ttotal: 266ms\tremaining: 367ms\n",
            "42:\tlearn: 1026.5331483\ttotal: 270ms\tremaining: 358ms\n",
            "43:\tlearn: 1024.3255312\ttotal: 275ms\tremaining: 350ms\n",
            "44:\tlearn: 1023.9649596\ttotal: 280ms\tremaining: 342ms\n",
            "45:\tlearn: 1022.1808130\ttotal: 284ms\tremaining: 334ms\n",
            "46:\tlearn: 1020.2309022\ttotal: 289ms\tremaining: 326ms\n",
            "47:\tlearn: 1017.6735587\ttotal: 295ms\tremaining: 319ms\n",
            "48:\tlearn: 1016.6021215\ttotal: 300ms\tremaining: 312ms\n",
            "49:\tlearn: 1013.8274273\ttotal: 305ms\tremaining: 305ms\n",
            "50:\tlearn: 1012.4544029\ttotal: 310ms\tremaining: 298ms\n",
            "51:\tlearn: 1011.1767232\ttotal: 315ms\tremaining: 290ms\n",
            "52:\tlearn: 1010.9550366\ttotal: 319ms\tremaining: 283ms\n",
            "53:\tlearn: 1008.8174695\ttotal: 324ms\tremaining: 276ms\n",
            "54:\tlearn: 1005.7604608\ttotal: 329ms\tremaining: 269ms\n",
            "55:\tlearn: 1003.8707926\ttotal: 334ms\tremaining: 263ms\n",
            "56:\tlearn: 1002.7170131\ttotal: 340ms\tremaining: 256ms\n",
            "57:\tlearn: 1002.3750924\ttotal: 344ms\tremaining: 249ms\n",
            "58:\tlearn: 1002.2049834\ttotal: 349ms\tremaining: 243ms\n",
            "59:\tlearn: 1001.6299103\ttotal: 354ms\tremaining: 236ms\n",
            "60:\tlearn: 997.8201930\ttotal: 359ms\tremaining: 230ms\n",
            "61:\tlearn: 996.5558697\ttotal: 364ms\tremaining: 223ms\n",
            "62:\tlearn: 995.3255309\ttotal: 370ms\tremaining: 217ms\n",
            "63:\tlearn: 994.8944475\ttotal: 375ms\tremaining: 211ms\n",
            "64:\tlearn: 993.5064299\ttotal: 380ms\tremaining: 205ms\n",
            "65:\tlearn: 991.8744620\ttotal: 386ms\tremaining: 199ms\n",
            "66:\tlearn: 989.0009600\ttotal: 392ms\tremaining: 193ms\n",
            "67:\tlearn: 987.2099795\ttotal: 398ms\tremaining: 187ms\n",
            "68:\tlearn: 985.5378712\ttotal: 404ms\tremaining: 181ms\n",
            "69:\tlearn: 984.1162102\ttotal: 410ms\tremaining: 176ms\n",
            "70:\tlearn: 981.6816086\ttotal: 416ms\tremaining: 170ms\n",
            "71:\tlearn: 980.3936915\ttotal: 422ms\tremaining: 164ms\n",
            "72:\tlearn: 979.1409708\ttotal: 428ms\tremaining: 158ms\n",
            "73:\tlearn: 979.0944639\ttotal: 445ms\tremaining: 156ms\n",
            "74:\tlearn: 977.5094164\ttotal: 453ms\tremaining: 151ms\n",
            "75:\tlearn: 977.2109935\ttotal: 459ms\tremaining: 145ms\n",
            "76:\tlearn: 977.1436824\ttotal: 464ms\tremaining: 139ms\n",
            "77:\tlearn: 976.3834722\ttotal: 470ms\tremaining: 133ms\n",
            "78:\tlearn: 974.9740693\ttotal: 476ms\tremaining: 127ms\n",
            "79:\tlearn: 974.8831572\ttotal: 482ms\tremaining: 121ms\n",
            "80:\tlearn: 974.8510837\ttotal: 487ms\tremaining: 114ms\n",
            "81:\tlearn: 974.5721307\ttotal: 493ms\tremaining: 108ms\n",
            "82:\tlearn: 972.3341745\ttotal: 498ms\tremaining: 102ms\n",
            "83:\tlearn: 971.5718472\ttotal: 503ms\tremaining: 95.8ms\n",
            "84:\tlearn: 971.1180160\ttotal: 508ms\tremaining: 89.7ms\n",
            "85:\tlearn: 969.5264836\ttotal: 513ms\tremaining: 83.6ms\n",
            "86:\tlearn: 969.4409642\ttotal: 518ms\tremaining: 77.5ms\n",
            "87:\tlearn: 967.7464711\ttotal: 525ms\tremaining: 71.6ms\n",
            "88:\tlearn: 966.7865015\ttotal: 531ms\tremaining: 65.6ms\n",
            "89:\tlearn: 965.1641248\ttotal: 536ms\tremaining: 59.6ms\n",
            "90:\tlearn: 963.0338047\ttotal: 541ms\tremaining: 53.5ms\n",
            "91:\tlearn: 962.3260553\ttotal: 546ms\tremaining: 47.5ms\n",
            "92:\tlearn: 960.8812515\ttotal: 552ms\tremaining: 41.5ms\n",
            "93:\tlearn: 960.3564970\ttotal: 557ms\tremaining: 35.6ms\n",
            "94:\tlearn: 960.1808834\ttotal: 562ms\tremaining: 29.6ms\n",
            "95:\tlearn: 958.9538220\ttotal: 567ms\tremaining: 23.6ms\n",
            "96:\tlearn: 956.8394637\ttotal: 572ms\tremaining: 17.7ms\n",
            "97:\tlearn: 956.7035512\ttotal: 577ms\tremaining: 11.8ms\n",
            "98:\tlearn: 955.3029712\ttotal: 582ms\tremaining: 5.88ms\n",
            "99:\tlearn: 952.5396345\ttotal: 588ms\tremaining: 0us\n"
          ],
          "name": "stdout"
        },
        {
          "output_type": "execute_result",
          "data": {
            "text/plain": [
              "0.5792825973878382"
            ]
          },
          "metadata": {
            "tags": []
          },
          "execution_count": 40
        }
      ]
    },
    {
      "cell_type": "code",
      "metadata": {
        "colab": {
          "base_uri": "https://localhost:8080/"
        },
        "id": "NCCvgyrQZ2uw",
        "outputId": "f160c922-226f-4f67-c25d-8003ad81f039"
      },
      "source": [
        "# validation score\r\n",
        "model_cat.score(xvalid, yvalid)"
      ],
      "execution_count": 41,
      "outputs": [
        {
          "output_type": "execute_result",
          "data": {
            "text/plain": [
              "0.5792825973878382"
            ]
          },
          "metadata": {
            "tags": []
          },
          "execution_count": 41
        }
      ]
    },
    {
      "cell_type": "code",
      "metadata": {
        "id": "lmdBMLpiZ9Sb"
      },
      "source": [
        ""
      ],
      "execution_count": null,
      "outputs": []
    }
  ]
}